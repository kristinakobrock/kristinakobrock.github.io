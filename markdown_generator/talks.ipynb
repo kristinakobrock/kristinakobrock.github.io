{
 "cells": [
  {
   "attachments": {},
   "cell_type": "markdown",
   "metadata": {
    "deletable": true,
    "editable": true
   },
   "source": [
    "# Talks markdown generator for academicpages\n",
    "\n",
    "Takes a TSV of talks with metadata and converts them for use with [academicpages.github.io](academicpages.github.io). This is an interactive Jupyter notebook ([see more info here](http://jupyter-notebook-beginner-guide.readthedocs.io/en/latest/what_is_jupyter.html)). The core python code is also in `talks.py`. Run either from the `markdown_generator` folder after replacing `talks.tsv` with one containing your data.\n",
    "\n",
    "TODO: Make this work with BibTex and other databases, rather than Stuart's non-standard TSV format and citation style."
   ]
  },
  {
   "cell_type": "code",
   "execution_count": 12,
   "metadata": {
    "collapsed": false,
    "deletable": true,
    "editable": true
   },
   "outputs": [],
   "source": [
    "import pandas as pd\n",
    "import os"
   ]
  },
  {
   "attachments": {},
   "cell_type": "markdown",
   "metadata": {},
   "source": [
    "## Data format\n",
    "\n",
    "The TSV needs to have the following columns: title, type, url_slug, venue, date, location, talk_url, description, with a header at the top. Many of these fields can be blank, but the columns must be in the TSV.\n",
    "\n",
    "- Fields that cannot be blank: `title`, `url_slug`, `date`. All else can be blank. `type` defaults to \"Talk\" \n",
    "- `date` must be formatted as YYYY-MM-DD.\n",
    "- `url_slug` will be the descriptive part of the .md file and the permalink URL for the page about the paper. \n",
    "    - The .md file will be `YYYY-MM-DD-[url_slug].md` and the permalink will be `https://[yourdomain]/talks/YYYY-MM-DD-[url_slug]`\n",
    "    - The combination of `url_slug` and `date` must be unique, as it will be the basis for your filenames\n",
    "\n",
    "This is how the raw file looks (it doesn't look pretty, use a spreadsheet or other program to edit and create)."
   ]
  },
  {
   "cell_type": "code",
   "execution_count": 13,
   "metadata": {
    "collapsed": false
   },
   "outputs": [
    {
     "name": "stdout",
     "output_type": "stream",
     "text": [
      "title\ttype\turl_slug\tvenue\tdate\tlocation\ttalk_url\tdescription\n",
      "The role of affect in the Automatic Approach Bias: An empirical investigation\tTalk\ttalk-1\tPhilosophy of Science Conference -  Cognitive Science track, Inter-University Centre Dubrovnik (IUC)\t2022-04-26\tDubrovnik, Croatia\t\t\n",
      "Computational approaches to a cognitive conception of language:\tTalk\ttalk-2\tComputational Cognitive Science Group at Donders Centre for Cognition/Radboud University\t2022-05-09\tNijmegen, Netherlands (online)\t\t\n",
      "The role of language and pragmatics in higher-level cognition: Forming abstract concepts in social interaction\tShort Talk\ttalk-3\tInternational Interdisciplinary Computational Cognitive Science Summer School (IICCSSS)\t2022-09-07\tTübingen, Germany\t\t\n",
      "Feeling Good, Approaching the Positive: The Role of Affect and Arousal in the Approach-Avoidance Bias\tTalk\ttalk-4\tDoctorate Colloquium, Osnabrück University\t2023-02-07\tOsnabrück, Germany\t\t\n",
      "Replications in Experimental Linguistics\tTalk\ttalk-5\tThe Friday Primes, Humboldt University Berlin\t2023-05-26\tBerlin, Germany\t\t\n",
      "tba\tTalk\ttalk-6\tWorkshop: Procedural and Computational Models …\t2023-08-02\tLjubljana, Slowenia\t\t"
     ]
    }
   ],
   "source": [
    "!cat talks.tsv"
   ]
  },
  {
   "attachments": {},
   "cell_type": "markdown",
   "metadata": {},
   "source": [
    "## Import TSV\n",
    "\n",
    "Pandas makes this easy with the read_csv function. We are using a TSV, so we specify the separator as a tab, or `\\t`.\n",
    "\n",
    "I found it important to put this data in a tab-separated values format, because there are a lot of commas in this kind of data and comma-separated values can get messed up. However, you can modify the import statement, as pandas also has read_excel(), read_json(), and others."
   ]
  },
  {
   "cell_type": "code",
   "execution_count": 14,
   "metadata": {
    "collapsed": false,
    "deletable": true,
    "editable": true
   },
   "outputs": [
    {
     "data": {
      "text/html": [
       "<div>\n",
       "<style scoped>\n",
       "    .dataframe tbody tr th:only-of-type {\n",
       "        vertical-align: middle;\n",
       "    }\n",
       "\n",
       "    .dataframe tbody tr th {\n",
       "        vertical-align: top;\n",
       "    }\n",
       "\n",
       "    .dataframe thead th {\n",
       "        text-align: right;\n",
       "    }\n",
       "</style>\n",
       "<table border=\"1\" class=\"dataframe\">\n",
       "  <thead>\n",
       "    <tr style=\"text-align: right;\">\n",
       "      <th></th>\n",
       "      <th>title</th>\n",
       "      <th>type</th>\n",
       "      <th>url_slug</th>\n",
       "      <th>venue</th>\n",
       "      <th>date</th>\n",
       "      <th>location</th>\n",
       "      <th>talk_url</th>\n",
       "      <th>description</th>\n",
       "    </tr>\n",
       "  </thead>\n",
       "  <tbody>\n",
       "    <tr>\n",
       "      <th>0</th>\n",
       "      <td>The role of affect in the Automatic Approach B...</td>\n",
       "      <td>Talk</td>\n",
       "      <td>talk-1</td>\n",
       "      <td>Philosophy of Science Conference -  Cognitive ...</td>\n",
       "      <td>2022-04-26</td>\n",
       "      <td>Dubrovnik, Croatia</td>\n",
       "      <td>NaN</td>\n",
       "      <td>NaN</td>\n",
       "    </tr>\n",
       "    <tr>\n",
       "      <th>1</th>\n",
       "      <td>Computational approaches to a cognitive concep...</td>\n",
       "      <td>Talk</td>\n",
       "      <td>talk-2</td>\n",
       "      <td>Computational Cognitive Science Group at Donde...</td>\n",
       "      <td>2022-05-09</td>\n",
       "      <td>Nijmegen, Netherlands (online)</td>\n",
       "      <td>NaN</td>\n",
       "      <td>NaN</td>\n",
       "    </tr>\n",
       "    <tr>\n",
       "      <th>2</th>\n",
       "      <td>The role of language and pragmatics in higher-...</td>\n",
       "      <td>Short Talk</td>\n",
       "      <td>talk-3</td>\n",
       "      <td>International Interdisciplinary Computational ...</td>\n",
       "      <td>2022-09-07</td>\n",
       "      <td>Tübingen, Germany</td>\n",
       "      <td>NaN</td>\n",
       "      <td>NaN</td>\n",
       "    </tr>\n",
       "    <tr>\n",
       "      <th>3</th>\n",
       "      <td>Feeling Good, Approaching the Positive: The Ro...</td>\n",
       "      <td>Talk</td>\n",
       "      <td>talk-4</td>\n",
       "      <td>Doctorate Colloquium, Osnabrück University</td>\n",
       "      <td>2023-02-07</td>\n",
       "      <td>Osnabrück, Germany</td>\n",
       "      <td>NaN</td>\n",
       "      <td>NaN</td>\n",
       "    </tr>\n",
       "    <tr>\n",
       "      <th>4</th>\n",
       "      <td>Replications in Experimental Linguistics</td>\n",
       "      <td>Talk</td>\n",
       "      <td>talk-5</td>\n",
       "      <td>The Friday Primes, Humboldt University Berlin</td>\n",
       "      <td>2023-05-26</td>\n",
       "      <td>Berlin, Germany</td>\n",
       "      <td>NaN</td>\n",
       "      <td>NaN</td>\n",
       "    </tr>\n",
       "    <tr>\n",
       "      <th>5</th>\n",
       "      <td>tba</td>\n",
       "      <td>Talk</td>\n",
       "      <td>talk-6</td>\n",
       "      <td>Workshop: Procedural and Computational Models …</td>\n",
       "      <td>2023-08-02</td>\n",
       "      <td>Ljubljana, Slowenia</td>\n",
       "      <td>NaN</td>\n",
       "      <td>NaN</td>\n",
       "    </tr>\n",
       "  </tbody>\n",
       "</table>\n",
       "</div>"
      ],
      "text/plain": [
       "                                               title        type url_slug  \\\n",
       "0  The role of affect in the Automatic Approach B...        Talk   talk-1   \n",
       "1  Computational approaches to a cognitive concep...        Talk   talk-2   \n",
       "2  The role of language and pragmatics in higher-...  Short Talk   talk-3   \n",
       "3  Feeling Good, Approaching the Positive: The Ro...        Talk   talk-4   \n",
       "4           Replications in Experimental Linguistics        Talk   talk-5   \n",
       "5                                                tba        Talk   talk-6   \n",
       "\n",
       "                                               venue        date  \\\n",
       "0  Philosophy of Science Conference -  Cognitive ...  2022-04-26   \n",
       "1  Computational Cognitive Science Group at Donde...  2022-05-09   \n",
       "2  International Interdisciplinary Computational ...  2022-09-07   \n",
       "3         Doctorate Colloquium, Osnabrück University  2023-02-07   \n",
       "4      The Friday Primes, Humboldt University Berlin  2023-05-26   \n",
       "5    Workshop: Procedural and Computational Models …  2023-08-02   \n",
       "\n",
       "                         location  talk_url  description  \n",
       "0              Dubrovnik, Croatia       NaN          NaN  \n",
       "1  Nijmegen, Netherlands (online)       NaN          NaN  \n",
       "2               Tübingen, Germany       NaN          NaN  \n",
       "3              Osnabrück, Germany       NaN          NaN  \n",
       "4                 Berlin, Germany       NaN          NaN  \n",
       "5             Ljubljana, Slowenia       NaN          NaN  "
      ]
     },
     "execution_count": 14,
     "metadata": {},
     "output_type": "execute_result"
    }
   ],
   "source": [
    "talks = pd.read_csv(\"talks.tsv\", sep=\"\\t\", header=0)\n",
    "talks"
   ]
  },
  {
   "attachments": {},
   "cell_type": "markdown",
   "metadata": {},
   "source": [
    "## Escape special characters\n",
    "\n",
    "YAML is very picky about how it takes a valid string, so we are replacing single and double quotes (and ampersands) with their HTML encoded equivilents. This makes them look not so readable in raw format, but they are parsed and rendered nicely."
   ]
  },
  {
   "cell_type": "code",
   "execution_count": 15,
   "metadata": {
    "collapsed": false,
    "deletable": true,
    "editable": true
   },
   "outputs": [],
   "source": [
    "html_escape_table = {\n",
    "    \"&\": \"&amp;\",\n",
    "    '\"': \"&quot;\",\n",
    "    \"'\": \"&apos;\"\n",
    "    }\n",
    "\n",
    "def html_escape(text):\n",
    "    if type(text) is str:\n",
    "        return \"\".join(html_escape_table.get(c,c) for c in text)\n",
    "    else:\n",
    "        return \"False\""
   ]
  },
  {
   "attachments": {},
   "cell_type": "markdown",
   "metadata": {},
   "source": [
    "## Creating the markdown files\n",
    "\n",
    "This is where the heavy lifting is done. This loops through all the rows in the TSV dataframe, then starts to concatentate a big string (```md```) that contains the markdown for each type. It does the YAML metadata first, then does the description for the individual page."
   ]
  },
  {
   "cell_type": "code",
   "execution_count": 16,
   "metadata": {
    "collapsed": false,
    "deletable": true,
    "editable": true
   },
   "outputs": [],
   "source": [
    "loc_dict = {}\n",
    "\n",
    "for row, item in talks.iterrows():\n",
    "    \n",
    "    md_filename = str(item.date) + \"-\" + item.url_slug + \".md\"\n",
    "    html_filename = str(item.date) + \"-\" + item.url_slug \n",
    "    year = item.date[:4]\n",
    "    \n",
    "    md = \"---\\ntitle: \\\"\"   + item.title + '\"\\n'\n",
    "    md += \"collection: talks\" + \"\\n\"\n",
    "    \n",
    "    if len(str(item.type)) > 3:\n",
    "        md += 'type: \"' + item.type + '\"\\n'\n",
    "    else:\n",
    "        md += 'type: \"Talk\"\\n'\n",
    "    \n",
    "    md += \"permalink: /talks/\" + html_filename + \"\\n\"\n",
    "    \n",
    "    if len(str(item.venue)) > 3:\n",
    "        md += 'venue: \"' + item.venue + '\"\\n'\n",
    "        \n",
    "    if len(str(item.location)) > 3:\n",
    "        md += \"date: \" + str(item.date) + \"\\n\"\n",
    "    \n",
    "    if len(str(item.location)) > 3:\n",
    "        md += 'location: \"' + str(item.location) + '\"\\n'\n",
    "           \n",
    "    md += \"---\\n\"\n",
    "    \n",
    "    \n",
    "    if len(str(item.talk_url)) > 3:\n",
    "        md += \"\\n[More information here](\" + item.talk_url + \")\\n\" \n",
    "        \n",
    "    \n",
    "    if len(str(item.description)) > 3:\n",
    "        md += \"\\n\" + html_escape(item.description) + \"\\n\"\n",
    "        \n",
    "        \n",
    "    md_filename = os.path.basename(md_filename)\n",
    "    #print(md)\n",
    "    \n",
    "    with open(\"../_talks/\" + md_filename, 'w') as f:\n",
    "        f.write(md)"
   ]
  },
  {
   "attachments": {},
   "cell_type": "markdown",
   "metadata": {},
   "source": [
    "These files are in the talks directory, one directory below where we're working from."
   ]
  },
  {
   "cell_type": "code",
   "execution_count": 17,
   "metadata": {
    "collapsed": false,
    "deletable": true,
    "editable": true
   },
   "outputs": [
    {
     "name": "stdout",
     "output_type": "stream",
     "text": [
      "2022-04-26-talk-1.md 2022-05-talk-2.md    2023-05-26-talk-5.md\n",
      "2022-04-talk-1.md    2022-09-07-talk-3.md 2023-08-02-talk-6.md\n",
      "2022-05-09-talk-2.md 2023-02-07-talk-4.md\n"
     ]
    }
   ],
   "source": [
    "!ls ../_talks"
   ]
  },
  {
   "cell_type": "code",
   "execution_count": 18,
   "metadata": {
    "collapsed": false,
    "deletable": true,
    "editable": true
   },
   "outputs": [
    {
     "name": "stdout",
     "output_type": "stream",
     "text": [
      "---\n",
      "title: \"Feeling Good, Approaching the Positive: The Role of Affect and Arousal in the Approach-Avoidance Bias\"\n",
      "collection: talks\n",
      "type: \"Talk\"\n",
      "permalink: /talks/2023-02-07-talk-4\n",
      "venue: \"Doctorate Colloquium, Osnabrück University\"\n",
      "date: 2023-02-07\n",
      "location: \"Osnabrück, Germany\"\n",
      "---\n"
     ]
    }
   ],
   "source": [
    "!cat ../_talks/2023-02-07-talk-4.md"
   ]
  }
 ],
 "metadata": {
  "kernelspec": {
   "display_name": "Python 3.9 (pytorch)",
   "language": "python",
   "name": "pytorch"
  },
  "language_info": {
   "codemirror_mode": {
    "name": "ipython",
    "version": 3
   },
   "file_extension": ".py",
   "mimetype": "text/x-python",
   "name": "python",
   "nbconvert_exporter": "python",
   "pygments_lexer": "ipython3",
   "version": "3.9.13"
  }
 },
 "nbformat": 4,
 "nbformat_minor": 0
}
