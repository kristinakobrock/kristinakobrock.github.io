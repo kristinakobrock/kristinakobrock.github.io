{
 "cells": [
  {
   "attachments": {},
   "cell_type": "markdown",
   "metadata": {
    "deletable": true,
    "editable": true
   },
   "source": [
    "# Publications markdown generator for academicpages\n",
    "\n",
    "Takes a TSV of publications with metadata and converts them for use with [academicpages.github.io](academicpages.github.io). This is an interactive Jupyter notebook ([see more info here](http://jupyter-notebook-beginner-guide.readthedocs.io/en/latest/what_is_jupyter.html)). The core python code is also in `publications.py`. Run either from the `markdown_generator` folder after replacing `publications.tsv` with one containing your data.\n",
    "\n",
    "TODO: Make this work with BibTex and other databases of citations, rather than Stuart's non-standard TSV format and citation style.\n"
   ]
  },
  {
   "attachments": {},
   "cell_type": "markdown",
   "metadata": {},
   "source": [
    "## Data format\n",
    "\n",
    "The TSV needs to have the following columns: pub_date, title, venue, excerpt, citation, site_url, and paper_url, with a header at the top. \n",
    "\n",
    "- `excerpt` and `paper_url` can be blank, but the others must have values. \n",
    "- `pub_date` must be formatted as YYYY-MM-DD.\n",
    "- `url_slug` will be the descriptive part of the .md file and the permalink URL for the page about the paper. The .md file will be `YYYY-MM-DD-[url_slug].md` and the permalink will be `https://[yourdomain]/publications/YYYY-MM-DD-[url_slug]`\n",
    "\n",
    "This is how the raw file looks (it doesn't look pretty, use a spreadsheet or other program to edit and create)."
   ]
  },
  {
   "cell_type": "code",
   "execution_count": 1,
   "metadata": {
    "collapsed": false
   },
   "outputs": [
    {
     "name": "stdout",
     "output_type": "stream",
     "text": [
      "pub_date\ttitle\tvenue\texcerpt\tcitation\turl_slug\tpaper_url\n",
      "2023-03-30\tAssessing the replication landscape in experimental linguistics\tGlossa Psycholinguistics\tReplications are an integral part of cumulative experimental science. Yet many scientific disciplines do not replicate much because novel confirmatory findings are valued over direct replications. To provide a systematic assessment of the replication landscape in experimental linguistics, the present study estimated replication rates for over 50,000 articles across 98 journals. We used automatic string matching using the Web of Science combined with in-depth manual inspections of 274 papers. The median rate of mentioning the search string “replicat*” was as low as 1.7%. Subsequent manual analyses of articles containing the search string revealed that only 4% of these contained a direct replication, i.e., a study that aims to arrive at the same scientific conclusions as an initial study by using exactly the same methodology. Less than half of these direct replications were performed by independent researchers. Thus our data suggest that only 1 in 1250 experimental linguistic articles contains an independent direct replication. We conclude that, similar to neighboring disciplines, experimental linguistics replicates very little, a state of affairs that should be reflected upon.\t\"Kobrock, Kristina & Roettger, Timo B. (2023). “Assessing the replication landscape in experimental linguistics.\"\" <i>Glossa Psycholinguistics</i>. 2(1).\"\tReplicationLing\thttps://doi.org/10.5070/G6011135\n",
      "2024-05-20\tContext Shapes Emergent Communication about Concepts at Different Levels of Abstraction\tProceedings of the 2024 Joint International Conference on Computational Linguistics, Language Resources and Evaluation (LREC-COLING 2024)\tWe study the communication of concepts at different levels of abstraction and in different contexts in an agent-based, interactive reference game. While playing a concept-level reference game, the neural network agents develop a communication system from scratch. We use a novel symbolic dataset that disentangles concept type (ranging from specific to generic) and context (ranging from fine to coarse) to study the influence of these factors on the emerging language. We compare two game scenarios: one in which speaker agents have access to context information (context-aware) and one in which the speaker agents do not have access to context information (context-unaware). First, we find that the agents learn higher-level concepts from the object inputs alone. Second, an analysis of the emergent communication system shows that only context-aware agents learn to communicate eﬀiciently by adapting their messages to the context conditions and relying on context for unambiguous reference. Crucially, this behavior is not explicitly incentivized by the game, but eﬀicient communication emerges and is driven by the availability of context alone. The emerging language we observe is reminiscent of evolutionary pressures on human languages and highlights the pivotal role of context in a communication system.\tKobrock, Kristina, Ohmer, Xenia, Bruni, Elia & Gotzner, Nicole (2024). “Context Shapes Emergent Communication about Concepts at Different Levels of Abstraction.” <i>Proceedings of the 2024 Joint International Conference on Computational Linguistics, Language Resources and Evaluation (LREC-COLING 2024)</i>.\tContextAware\thttps://aclanthology.org/2024.lrec-main.339.pdf\n",
      "2024-07-25\tSuperordinate referring expressions in abstraction: Introducing the concept-level reference game\tProceedings of the Annual Meeting of the Cognitive Science Society 2024\tWe study referential communication about concepts at different levels of abstraction in an interactive concept-level reference game. To better understand processes of abstraction, we investigate superordinate referring expressions (animal). Previous work identified two main factors that influence speakers’ choice of referring expressions for concepts: the immediate context and the basic-level effect, i.e. a preference for basic-level terms such as dog. Here we introduce a new concept-level reference game that allows us to study differences in the basic-level effect between comprehension and production and to elicit superordinate referring expressions experimentally. We find that superordinate referring expressions become relevant for groups of objects. Further, we reproduce the basic-level effect in production but not in comprehension. In conclusion, even though basic-level terms are most readily accessible, speakers tailor their expressions to the context, allowing the listener to identify the target concept.\tKobrock, Kristina, Uhlemann, Charlotte & Gotzner, Nicole (2024). “Superordinate referring expressions in abstraction: Introducing the concept-level reference game.” <i>Proceedings of the Annual Meeting of the Cognitive Science Society 2024</i>.\tConceptRG\thttps://osf.io/cv74u\n",
      "2024-11-20\tFeeling good, approaching the positive\tFrontiers in Psychology, Section Cognitive Science\tApproach and avoidance behaviors have been extensively studied in cognitive science as a fundamental aspect of human motivation and decision-making. The Approach-Avoidance Bias (AAB) refers to the tendency to approach positive stimuli faster than negative stimuli and to avoid negative stimuli faster than positive ones. Affect and arousal in involved individuals are assumed to play a crucial role in the AAB but many questions in that regard remain open. With this in mind, the present study aimed to examine the impact of positive and negative mood on the AAB. To achieve this goal, we conducted an experiment where participants watched either positive or negative videos prior to performing an approach-avoidance task. We have not been able to confirm our preregistered hypothesis that mood induction moderates the AAB. Instead, our results suggest that an AAB can be robustly shown after both the positive and the negative intervention. Positive Affect Negative Affect Schedule (PANAS) results show that the participants' affective state was influenced by the mood intervention only in the form of increased emotional intensity. Participants did not self-report a change in mood valence that corresponds to the valence of the video primes. However, the behavioral data shows that after watching a positive video, participants are faster in approaching positive stimuli than negative stimuli. At the same time, we do not find a similar effect after the negative intervention. These findings suggest that positive and negative affect might play an important role in shaping the AAB that is modulated by stimulus valence. This provides new potential insights into the underlying mechanisms of human motivation and decision-making. Specifically, we argue for potential differences between attention and reaction toward a valenced stimulus.\tKobrock, Kristina, Solzbacher, Johannes, Gotzner, Nicole and König, Peter (2024). “Feeling good, approaching the positive.” <i>Frontiers in Psychology</i>. 15.\tAffect-AAT\thttps://doi.org/10.3389/fpsyg.2024.1491612\n",
      "2024-10-28\tAgents can generalize to novel levels of abstraction by using adaptive linguistic strategies\tsubmitted to ACL Rolling Review\tWe study abstraction in an emergent communication paradigm. In emergent communication, two artificial neural network agents develop a language while solving a communicative task. In this study, the agents play a concept-level reference game. This means that the speaker agent has to describe a concept to a listener agent, who has to pick the correct target objects that satisfy the concept. Concepts consist of multiple objects and can be either more specific, i.e. the target objects share many attributes, or more generic, i.e. the target objects share fewer attributes. We test two directions of zero-shot generalization to novel levels of abstraction: When generalizing from more generic to very specific concepts, agents utilize a compositional strategy. When generalizing from more specific to very generic concepts, agents utilize a more flexible linguistic strategy that involves reusing many messages from training. Our results provide evidence that neural network agents can learn robust concepts based on which they can generalize using adaptive linguistic strategies. We discuss how this research provides new hypotheses on abstraction and informs linguistic theories on efficient communication.\tKobrock, K., Ohmer, X., Bruni, E., & Gotzner, N. (2024). “Agents can generalize to novel levels of abstraction by using adaptive linguistic strategies.” <i>submitted to ARR</i>.\tZero-shotAbstraction\thttps://doi.org/10.31234/osf.io/km28h_v2\n",
      "2025-02-14\tThe Efficiency of Ambiguity: Abstract References Emerge in Coarse Contexts\tsubmitted to ACL Rolling Review\tWe investigate how context granularity, i.e. whether fine or coarse distinctions need to be made, influences an emerging lexicon. We conduct an agent-based simulation of a concept-level reference game, in which agents learn to communicate about concepts that are operationalized by combining multiple objects. We create three experimental conditions by manipulating the context in which the instances of the target concept appear: In the fine context condition, agents must make precise distinctions between similar targets and distractors. In the coarse context condition, targets are easy to discriminate because they share no overlapping features with the distractors. In the mixed baseline condition, both fine and coarse distinctions are necessary. Our results suggest that agents adapt their communication strategies to the granularity of the context in which they learned the concepts. In the fine context and baseline conditions, agents develop a communication protocol heavily based on one-to-one mappings between messages and concepts. Conversely, in the coarse context condition agents communicate more efficiently by vastly relying on abstract references that may refer to more than a single concept but are unambiguous in context. These results show that ambiguity emerges in coarse contexts and that ambiguous abstract terms are used for more efficient communication.\tBriotto, Anna, Kobrock, Kristina & Bruni, Elia (2025). “The Efficiency of Ambiguity: Abstract References Emerge in Coarse Contexts.” <i>submitted to ARR</i>.\tContextGranularity\thttps://doi.org/10.31234/osf.io/3btvj_v2"
     ]
    }
   ],
   "source": [
    "!cat publications.tsv"
   ]
  },
  {
   "attachments": {},
   "cell_type": "markdown",
   "metadata": {},
   "source": [
    "## Import pandas\n",
    "\n",
    "We are using the very handy pandas library for dataframes."
   ]
  },
  {
   "cell_type": "code",
   "execution_count": 2,
   "metadata": {
    "collapsed": true,
    "deletable": true,
    "editable": true
   },
   "outputs": [],
   "source": [
    "import pandas as pd"
   ]
  },
  {
   "attachments": {},
   "cell_type": "markdown",
   "metadata": {},
   "source": [
    "## Import TSV\n",
    "\n",
    "Pandas makes this easy with the read_csv function. We are using a TSV, so we specify the separator as a tab, or `\\t`.\n",
    "\n",
    "I found it important to put this data in a tab-separated values format, because there are a lot of commas in this kind of data and comma-separated values can get messed up. However, you can modify the import statement, as pandas also has read_excel(), read_json(), and others."
   ]
  },
  {
   "cell_type": "code",
   "execution_count": 3,
   "metadata": {
    "collapsed": false,
    "deletable": true,
    "editable": true
   },
   "outputs": [
    {
     "data": {
      "text/html": [
       "<div>\n",
       "<style scoped>\n",
       "    .dataframe tbody tr th:only-of-type {\n",
       "        vertical-align: middle;\n",
       "    }\n",
       "\n",
       "    .dataframe tbody tr th {\n",
       "        vertical-align: top;\n",
       "    }\n",
       "\n",
       "    .dataframe thead th {\n",
       "        text-align: right;\n",
       "    }\n",
       "</style>\n",
       "<table border=\"1\" class=\"dataframe\">\n",
       "  <thead>\n",
       "    <tr style=\"text-align: right;\">\n",
       "      <th></th>\n",
       "      <th>pub_date</th>\n",
       "      <th>title</th>\n",
       "      <th>venue</th>\n",
       "      <th>excerpt</th>\n",
       "      <th>citation</th>\n",
       "      <th>url_slug</th>\n",
       "      <th>paper_url</th>\n",
       "    </tr>\n",
       "  </thead>\n",
       "  <tbody>\n",
       "    <tr>\n",
       "      <th>0</th>\n",
       "      <td>2023-03-30</td>\n",
       "      <td>Assessing the replication landscape in experim...</td>\n",
       "      <td>Glossa Psycholinguistics</td>\n",
       "      <td>Replications are an integral part of cumulativ...</td>\n",
       "      <td>Kobrock, Kristina &amp; Roettger, Timo B. (2023). ...</td>\n",
       "      <td>ReplicationLing</td>\n",
       "      <td>https://doi.org/10.5070/G6011135</td>\n",
       "    </tr>\n",
       "    <tr>\n",
       "      <th>1</th>\n",
       "      <td>2024-05-20</td>\n",
       "      <td>Context Shapes Emergent Communication about Co...</td>\n",
       "      <td>Proceedings of the 2024 Joint International Co...</td>\n",
       "      <td>We study the communication of concepts at diff...</td>\n",
       "      <td>Kobrock, Kristina, Ohmer, Xenia, Bruni, Elia &amp;...</td>\n",
       "      <td>ContextAware</td>\n",
       "      <td>https://aclanthology.org/2024.lrec-main.339.pdf</td>\n",
       "    </tr>\n",
       "    <tr>\n",
       "      <th>2</th>\n",
       "      <td>2024-07-25</td>\n",
       "      <td>Superordinate referring expressions in abstrac...</td>\n",
       "      <td>Proceedings of the Annual Meeting of the Cogni...</td>\n",
       "      <td>We study referential communication about conce...</td>\n",
       "      <td>Kobrock, Kristina, Uhlemann, Charlotte &amp; Gotzn...</td>\n",
       "      <td>ConceptRG</td>\n",
       "      <td>https://osf.io/cv74u</td>\n",
       "    </tr>\n",
       "    <tr>\n",
       "      <th>3</th>\n",
       "      <td>2024-11-20</td>\n",
       "      <td>Feeling good, approaching the positive</td>\n",
       "      <td>Frontiers in Psychology, Section Cognitive Sci...</td>\n",
       "      <td>Approach and avoidance behaviors have been ext...</td>\n",
       "      <td>Kobrock, Kristina, Solzbacher, Johannes, Gotzn...</td>\n",
       "      <td>Affect-AAT</td>\n",
       "      <td>https://doi.org/10.3389/fpsyg.2024.1491612</td>\n",
       "    </tr>\n",
       "    <tr>\n",
       "      <th>4</th>\n",
       "      <td>2024-10-28</td>\n",
       "      <td>Agents can generalize to novel levels of abstr...</td>\n",
       "      <td>submitted to ACL Rolling Review</td>\n",
       "      <td>We study abstraction in an emergent communicat...</td>\n",
       "      <td>Kobrock, K., Ohmer, X., Bruni, E., &amp; Gotzner, ...</td>\n",
       "      <td>Zero-shotAbstraction</td>\n",
       "      <td>https://doi.org/10.31234/osf.io/km28h_v2</td>\n",
       "    </tr>\n",
       "    <tr>\n",
       "      <th>5</th>\n",
       "      <td>2025-02-14</td>\n",
       "      <td>The Efficiency of Ambiguity: Abstract Referenc...</td>\n",
       "      <td>submitted to ACL Rolling Review</td>\n",
       "      <td>We investigate how context granularity, i.e. w...</td>\n",
       "      <td>Briotto, Anna, Kobrock, Kristina &amp; Bruni, Elia...</td>\n",
       "      <td>ContextGranularity</td>\n",
       "      <td>https://doi.org/10.31234/osf.io/3btvj_v2</td>\n",
       "    </tr>\n",
       "  </tbody>\n",
       "</table>\n",
       "</div>"
      ],
      "text/plain": [
       "     pub_date                                              title  \\\n",
       "0  2023-03-30  Assessing the replication landscape in experim...   \n",
       "1  2024-05-20  Context Shapes Emergent Communication about Co...   \n",
       "2  2024-07-25  Superordinate referring expressions in abstrac...   \n",
       "3  2024-11-20             Feeling good, approaching the positive   \n",
       "4  2024-10-28  Agents can generalize to novel levels of abstr...   \n",
       "5  2025-02-14  The Efficiency of Ambiguity: Abstract Referenc...   \n",
       "\n",
       "                                               venue  \\\n",
       "0                           Glossa Psycholinguistics   \n",
       "1  Proceedings of the 2024 Joint International Co...   \n",
       "2  Proceedings of the Annual Meeting of the Cogni...   \n",
       "3  Frontiers in Psychology, Section Cognitive Sci...   \n",
       "4                    submitted to ACL Rolling Review   \n",
       "5                    submitted to ACL Rolling Review   \n",
       "\n",
       "                                             excerpt  \\\n",
       "0  Replications are an integral part of cumulativ...   \n",
       "1  We study the communication of concepts at diff...   \n",
       "2  We study referential communication about conce...   \n",
       "3  Approach and avoidance behaviors have been ext...   \n",
       "4  We study abstraction in an emergent communicat...   \n",
       "5  We investigate how context granularity, i.e. w...   \n",
       "\n",
       "                                            citation              url_slug  \\\n",
       "0  Kobrock, Kristina & Roettger, Timo B. (2023). ...       ReplicationLing   \n",
       "1  Kobrock, Kristina, Ohmer, Xenia, Bruni, Elia &...          ContextAware   \n",
       "2  Kobrock, Kristina, Uhlemann, Charlotte & Gotzn...             ConceptRG   \n",
       "3  Kobrock, Kristina, Solzbacher, Johannes, Gotzn...            Affect-AAT   \n",
       "4  Kobrock, K., Ohmer, X., Bruni, E., & Gotzner, ...  Zero-shotAbstraction   \n",
       "5  Briotto, Anna, Kobrock, Kristina & Bruni, Elia...    ContextGranularity   \n",
       "\n",
       "                                         paper_url  \n",
       "0                 https://doi.org/10.5070/G6011135  \n",
       "1  https://aclanthology.org/2024.lrec-main.339.pdf  \n",
       "2                             https://osf.io/cv74u  \n",
       "3       https://doi.org/10.3389/fpsyg.2024.1491612  \n",
       "4         https://doi.org/10.31234/osf.io/km28h_v2  \n",
       "5         https://doi.org/10.31234/osf.io/3btvj_v2  "
      ]
     },
     "execution_count": 3,
     "metadata": {},
     "output_type": "execute_result"
    }
   ],
   "source": [
    "publications = pd.read_csv(\"publications.tsv\", sep=\"\\t\", header=0)\n",
    "publications\n"
   ]
  },
  {
   "attachments": {},
   "cell_type": "markdown",
   "metadata": {},
   "source": [
    "## Escape special characters\n",
    "\n",
    "YAML is very picky about how it takes a valid string, so we are replacing single and double quotes (and ampersands) with their HTML encoded equivilents. This makes them look not so readable in raw format, but they are parsed and rendered nicely."
   ]
  },
  {
   "cell_type": "code",
   "execution_count": 4,
   "metadata": {
    "collapsed": true,
    "deletable": true,
    "editable": true
   },
   "outputs": [],
   "source": [
    "html_escape_table = {\n",
    "    \"&\": \"&amp;\",\n",
    "    '\"': \"&quot;\",\n",
    "    \"'\": \"&apos;\"\n",
    "    }\n",
    "\n",
    "def html_escape(text):\n",
    "    \"\"\"Produce entities within text.\"\"\"\n",
    "    return \"\".join(html_escape_table.get(c,c) for c in text)"
   ]
  },
  {
   "attachments": {},
   "cell_type": "markdown",
   "metadata": {},
   "source": [
    "## Creating the markdown files\n",
    "\n",
    "This is where the heavy lifting is done. This loops through all the rows in the TSV dataframe, then starts to concatentate a big string (```md```) that contains the markdown for each type. It does the YAML metadata first, then does the description for the individual page."
   ]
  },
  {
   "cell_type": "code",
   "execution_count": 5,
   "metadata": {
    "collapsed": false,
    "deletable": true,
    "editable": true
   },
   "outputs": [],
   "source": [
    "import os\n",
    "for row, item in publications.iterrows():\n",
    "    \n",
    "    md_filename = str(item.pub_date) + \"-\" + item.url_slug + \".md\"\n",
    "    html_filename = str(item.pub_date) + \"-\" + item.url_slug\n",
    "    year = item.pub_date[:4]\n",
    "    \n",
    "    ## YAML variables\n",
    "    \n",
    "    md = \"---\\ntitle: \\\"\"   + item.title + '\"\\n'\n",
    "    \n",
    "    md += \"\"\"collection: publications\"\"\"\n",
    "    \n",
    "    md += \"\"\"\\npermalink: /publication/\"\"\" + html_filename\n",
    "    \n",
    "    if len(str(item.excerpt)) > 5:\n",
    "        md += \"\\nexcerpt: '\" + html_escape(item.excerpt) + \"'\"\n",
    "    \n",
    "    md += \"\\ndate: \" + str(item.pub_date) \n",
    "    \n",
    "    md += \"\\nvenue: '\" + html_escape(item.venue) + \"'\"\n",
    "    \n",
    "    if len(str(item.paper_url)) > 5:\n",
    "        md += \"\\npaperurl: '\" + item.paper_url + \"'\"\n",
    "    \n",
    "    md += \"\\ncitation: '\" + html_escape(item.citation) + \"'\"\n",
    "    \n",
    "    md += \"\\n---\"\n",
    "    \n",
    "    ## Markdown description for individual page\n",
    "        \n",
    "    if len(str(item.excerpt)) > 5:\n",
    "        md += \"\\n\" + html_escape(item.excerpt) + \"\\n\"\n",
    "    \n",
    "    if len(str(item.paper_url)) > 5:\n",
    "        md += \"\\n[Download paper here](\" + item.paper_url + \")\\n\" \n",
    "        \n",
    "    md += \"\\nRecommended citation: \" + item.citation\n",
    "    \n",
    "    md_filename = os.path.basename(md_filename)\n",
    "       \n",
    "    with open(\"../_publications/\" + md_filename, 'w') as f:\n",
    "        f.write(md)"
   ]
  },
  {
   "attachments": {},
   "cell_type": "markdown",
   "metadata": {},
   "source": [
    "These files are in the publications directory, one directory below where we're working from."
   ]
  },
  {
   "cell_type": "code",
   "execution_count": 6,
   "metadata": {
    "collapsed": false,
    "deletable": true,
    "editable": true
   },
   "outputs": [
    {
     "name": "stdout",
     "output_type": "stream",
     "text": [
      "2023-03-30-ReplicationLing.md      2024-10-28-Zero-shotAbstraction.md\n",
      "2024-05-20-ContextAware.md         2024-11-20-Affect-AAT.md\n",
      "2024-07-25-ConceptRG.md            2025-02-14-ContextGranularity.md\n"
     ]
    }
   ],
   "source": [
    "!ls ../_publications/"
   ]
  },
  {
   "cell_type": "code",
   "execution_count": 45,
   "metadata": {
    "collapsed": false,
    "deletable": true,
    "editable": true
   },
   "outputs": [
    {
     "name": "stdout",
     "output_type": "stream",
     "text": [
      "---\n",
      "title: \"Paper Title Number 1\"\n",
      "collection: publications\n",
      "permalink: /publication/2009-10-01-paper-title-number-1\n",
      "excerpt: 'This paper is about the number 1. The number 2 is left for future work.'\n",
      "date: 2009-10-01\n",
      "venue: 'Journal 1'\n",
      "paperurl: 'http://academicpages.github.io/files/paper1.pdf'\n",
      "citation: 'Your Name, You. (2009). &quot;Paper Title Number 1.&quot; <i>Journal 1</i>. 1(1).'\n",
      "---\n",
      "This paper is about the number 1. The number 2 is left for future work.\n",
      "\n",
      "[Download paper here](http://academicpages.github.io/files/paper1.pdf)\n",
      "\n",
      "Recommended citation: Your Name, You. (2009). \"Paper Title Number 1.\" <i>Journal 1</i>. 1(1)."
     ]
    }
   ],
   "source": [
    "!cat ../_publications/2009-10-01-paper-title-number-1.md"
   ]
  },
  {
   "cell_type": "code",
   "execution_count": null,
   "metadata": {
    "collapsed": true,
    "deletable": true,
    "editable": true
   },
   "outputs": [],
   "source": []
  }
 ],
 "metadata": {
  "kernelspec": {
   "display_name": "Python 3",
   "language": "python",
   "name": "python3"
  },
  "language_info": {
   "codemirror_mode": {
    "name": "ipython",
    "version": 3
   },
   "file_extension": ".py",
   "mimetype": "text/x-python",
   "name": "python",
   "nbconvert_exporter": "python",
   "pygments_lexer": "ipython3",
   "version": "3.9.6"
  }
 },
 "nbformat": 4,
 "nbformat_minor": 0
}
